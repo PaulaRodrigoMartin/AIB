{
 "cells": [
  {
   "attachments": {},
   "cell_type": "markdown",
   "metadata": {},
   "source": [
    "Exact 3 group pairwise alignment"
   ]
  },
  {
   "cell_type": "code",
   "execution_count": 46,
   "metadata": {},
   "outputs": [
    {
     "name": "stdout",
     "output_type": "stream",
     "text": [
      "196.0\n"
     ]
    }
   ],
   "source": [
    "import numpy as np\n",
    "\n",
    "substitution_matrix ={'A': {'A': 0, 'C': 5, 'G': 2, 'T': 5}, \n",
    "                    'C': {'A': 5, 'C': 0, 'G': 5, 'T': 2}, \n",
    "                    'G': {'A': 2, 'C': 5, 'G': 0, 'T': 5}, \n",
    "                    'T': {'A': 5, 'C': 2, 'G': 5, 'T': 0}}\n",
    "\n",
    "\n",
    "\n",
    "def alignment_of_3_seqs(seq1, seq2, seq3, gapcost, subst_matrix): #build using MSA frpm sldes (slide 19 and 20)\n",
    "    t = np.zeros((len(seq1)+1, len(seq2)+1, len(seq3)+1))\n",
    "    for i in range(1, len(seq1)+1):\n",
    "        for j in range(1, len(seq2)+1):\n",
    "            for k in range(1, len(seq3)+1):\n",
    "                v0 = v1 = v2 = v3 = v4 = v5 = v6 = v7 = np.inf\n",
    "                if i == 1 and j == 1 and k == 1:\n",
    "                    v0 = 0\n",
    "                if i > 1 and j > 1 and k > 1:\n",
    "                    v1 = t[i-1, j-1, k-1] + subst_matrix[seq1[i-1]][seq2[j-1]] + subst_matrix[seq2[j-1]][seq3[k-1]] + subst_matrix[seq1[i-1]][seq3[k-1]]\n",
    "                if i > 1 and j > 1 and k >= 1:\n",
    "                    v2 = t[i-1, j-1, k] + subst_matrix[seq1[i-1]][seq2[j-1]] + gapcost + gapcost\n",
    "                if i > 1 and j >= 1 and k > 1:\n",
    "                    v3 = t[i-1, j, k-1] + subst_matrix[seq1[i-1]][seq3[k-1]] + gapcost + gapcost\n",
    "                if i >= 1 and j > 1 and k > 1:\n",
    "                    v4 = t[i, j-1, k-1] + subst_matrix[seq2[j-1]][seq3[k-1]] + gapcost + gapcost\n",
    "                if i > 1 and j >= 1 and k >= 1:\n",
    "                    v5 = t[i-1, j, k] + gapcost + gapcost\n",
    "                if i >= 1 and j > 1 and k >= 1:\n",
    "                    v6 = t[i, j-1, k] + gapcost + gapcost\n",
    "                if i >= 1 and j >= 1 and k > 1:\n",
    "                    v7 = t[i, j, k-1] + gapcost + gapcost\n",
    "                t[i, j, k] = min(v0, v1, v2, v3, v4, v5, v6, v7)\n",
    "    return t[len(seq1),len(seq2),len(seq3)]\n",
    "\n",
    "\n",
    "\n",
    "#this is the test seqs but for some reason we get 196 and not 198.... fuck\n",
    "\n",
    "seq1 = 'GTTCCGAAAGGCTAGCGCTAGGCGCC' #27\n",
    "\n",
    "\n",
    "seq2 = 'ATGGATTTATCTGCTCTTCG'# 21\n",
    "\n",
    "\n",
    "seq3 = 'TGCATGCTGAAACTTCTCAACCA' # 24\n",
    "\n",
    "\n",
    "\n",
    "print(alignment_of_3_seqs(seq1,seq2,seq3,gapcost=5,subst_matrix=substitution_matrix))\n",
    "\n",
    "\n"
   ]
  },
  {
   "attachments": {},
   "cell_type": "markdown",
   "metadata": {},
   "source": [
    "MSA 2-approximation "
   ]
  },
  {
   "cell_type": "code",
   "execution_count": 44,
   "metadata": {},
   "outputs": [
    {
     "name": "stdout",
     "output_type": "stream",
     "text": [
      "[['A', 'A'], ['C', 'C'], ['G', 'G'], ['-', 'G'], ['T', 'T']]\n"
     ]
    }
   ],
   "source": [
    "# first part making the pairwise global alignment\n",
    "def global_alignment_linear(seq1, seq2, gap_cost,subst_matrix,output_file = False):\n",
    "    # Initialize the matrix with zeros\n",
    "    M = [[0] * (len(seq2) + 1) for i in range(len(seq1) + 1)]\n",
    "    \n",
    "    # Initialize the first row and column\n",
    "    for i in range(1, len(seq1) + 1):\n",
    "        M[i][0] = M[i-1][0] + gap_cost\n",
    "    for j in range(1, len(seq2) + 1):\n",
    "        M[0][j] = M[0][j-1] + gap_cost\n",
    "    for i in range(1, len(seq1) + 1):\n",
    "        for j in range(1, len(seq2) + 1):\n",
    "            match_score = M[i-1][j-1] + subst_matrix[seq1[i-1]][seq2[j-1]]\n",
    "            delete_score = M[i-1][j] + gap_cost\n",
    "            insert_score = M[i][j-1] + gap_cost\n",
    "            M[i][j] = min(match_score, delete_score, insert_score)\n",
    "    return M\n",
    "\n",
    "# Traceback and compute the alignment\n",
    "def backtrack(seq1,seq2,gap_cost,M):\n",
    "    alignment1, alignment2 = \"\", \"\"\n",
    "    i, j = len(seq1), len(seq2)\n",
    "    while i > 0 or j > 0:\n",
    "        if i > 0 and M[i][j] == M[i-1][j] + gap_cost:\n",
    "            alignment1 = seq1[i-1] + alignment1\n",
    "            alignment2 = \"-\" + alignment2\n",
    "            i -= 1\n",
    "        elif j > 0 and M[i][j] == M[i][j-1] + gap_cost:\n",
    "            alignment1 = \"-\" + alignment1\n",
    "            alignment2 = seq2[j-1] + alignment2\n",
    "            j -= 1\n",
    "        else:\n",
    "            alignment1 = seq1[i-1] + alignment1\n",
    "            alignment2 = seq2[j-1] + alignment2\n",
    "            i -= 1\n",
    "            j -= 1\n",
    "    # return list of columns of seq1 and seq2\n",
    "    list_of_columns = [[i] for i in alignment1]\n",
    "    for i,v in enumerate(alignment2):\n",
    "        if i > len(list_of_columns):\n",
    "            list_of_columns.append([v])\n",
    "        else:\n",
    "            list_of_columns[i].append(v)\n",
    "    return list_of_columns\n",
    "\n",
    "# sanity check\n",
    "seq1 = 'ACGT'\n",
    "seq2 = 'ACGGT'\n",
    "\n",
    "m1 = (global_alignment_linear(seq1,seq2,5,substitution_matrix))\n",
    "print(backtrack(seq1,seq2,5,m1))\n",
    "\n",
    "# it works uptil here\n",
    "# now lets try to extend it with storms code\n",
    "\n",
    "def two_approx_algorithm_for_MSA(list_of_seqs, gap_cost, subst_matrix):\n",
    "    # the first seq in list be s1 (the reference seq)\n",
    "    s1 = list_of_seqs[0]\n",
    "    M = None\n",
    "    sum_sp = 0\n",
    "    # make the pairwise alignment\n",
    "    for i in range(1,len(list_of_seqs)):\n",
    "        pairwise_matrix = global_alignment_linear(s1, list_of_seqs[i], gap_cost,subst_matrix)\n",
    "        sum_sp += pairwise_matrix[len(s1)][len(list_of_seqs[i])]\n",
    "    # make pairwise back track, corresponding to the A matrix in slides\n",
    "        A = backtrack(s1, list_of_seqs[i], gap_cost, pairwise_matrix)\n",
    "    # construct matrix M\n",
    "        if M is None:\n",
    "            M = A\n",
    "        else:\n",
    "            MA = []\n",
    "            i = 0\n",
    "            j = 0\n",
    "            while i < len(M) and j < len(A):\n",
    "                # Invariant: (1) MA is a valid merge of all columns before column i in M\n",
    "                # and all columns before column in A, and (2) the first row of M and A up\n",
    "                # to (but not including) column i and j respectively is the same string\n",
    "                # if gaps are removed.\n",
    "                if M[i][0] == '-' and A[j][0] == '-':\n",
    "                    # Case 1: The next column in MA is column i in M extended with the second symbol\n",
    "                    # in column j in A.\n",
    "                    M[i].append(A[j][1])\n",
    "                    MA.append(M[i])\n",
    "                    i = i + 1\n",
    "                    j = j + 1\n",
    "                elif M[i][0] == '-' and A[j][0] != '-':\n",
    "                    # Case 2: A[j][0] is a character, so the second symbol in column j in A, A[j][1],\n",
    "                    # must be in the column of MA that is the column in M where the first symbol corresponds\n",
    "                    # to A[j][0]. By the invariant, this column in M is the next column in M, where the first\n",
    "                    # symbol is a character, so we just moved forward in M until we find this column.\n",
    "                    M[i].append('-')\n",
    "                    MA.append(M[i])\n",
    "                    i = i + 1\n",
    "                elif M[i][0] != '-' and A[j][0] == '-':\n",
    "                    # Case 3: M[i][0] is a character, so column i in M must be in the column of MA that also\n",
    "                    # contains the second symbol from the column in A, where the first symbol is the character\n",
    "                    # corresponding to M[i][0]. By the invariant, this column in A is the next column in A,\n",
    "                    # where the first symbol is a character, so we just add columns from A to MA until we\n",
    "                    # find this column.\n",
    "                    c = ['-']*len(M[i])\n",
    "                    c.append(A[j][1])\n",
    "                    MA.append(c)\n",
    "                    j = j + 1\n",
    "                elif M[i][0] != '-' and A[j][0] != '-':\n",
    "                    # Case 4: By the invariant the characters M[i][0] and A[j][0] are at the same position\n",
    "                    # in the string spelled by the row of M and A if gaps are removed. The next column in\n",
    "                    # MA is thus column i in M extended with the second symbol in column j in A.\n",
    "                    M[i].append(A[j][1])\n",
    "                    MA.append(M[i])\n",
    "                    i = i + 1\n",
    "                    j = j + 1\n",
    "            if i < len(M):\n",
    "                # add the remaining coloumns of M to MA\n",
    "                while i < len(M):\n",
    "                    MA.append(M[i].append('-'))\n",
    "                    i = i + 1\n",
    "                    \n",
    "            if j < len(A):\n",
    "                # add the remaining columns of A to MA\n",
    "                print(A)\n",
    "                print(M)\n",
    "                k = len(M[0])\n",
    "                print(k)\n",
    "                while j < len(A):\n",
    "                    print(i)\n",
    "                    c = ['-']*k\n",
    "                    c.append(A[j][j])\n",
    "                    MA.append(c)\n",
    "                    j = j + 1\n",
    "            M = MA\n",
    "    return M"
   ]
  },
  {
   "cell_type": "code",
   "execution_count": 43,
   "metadata": {},
   "outputs": [
    {
     "data": {
      "text/plain": [
       "[['A', 'A'], ['C', 'C'], ['G', 'G'], ['-', 'G'], ['T', 'T']]"
      ]
     },
     "execution_count": 43,
     "metadata": {},
     "output_type": "execute_result"
    }
   ],
   "source": [
    "seqlist = [seq1,seq2,seq3]\n",
    "two_approx_algorithm_for_MSA(seqlist, 5, substitution_matrix)"
   ]
  },
  {
   "cell_type": "code",
   "execution_count": null,
   "metadata": {},
   "outputs": [],
   "source": []
  }
 ],
 "metadata": {
  "kernelspec": {
   "display_name": "Python 3",
   "language": "python",
   "name": "python3"
  },
  "language_info": {
   "codemirror_mode": {
    "name": "ipython",
    "version": 3
   },
   "file_extension": ".py",
   "mimetype": "text/x-python",
   "name": "python",
   "nbconvert_exporter": "python",
   "pygments_lexer": "ipython3",
   "version": "3.10.4"
  },
  "orig_nbformat": 4,
  "vscode": {
   "interpreter": {
    "hash": "b557d93b90dea5d953ffe58baaf56f06fde2ccb3654250b20605f3f147789a19"
   }
  }
 },
 "nbformat": 4,
 "nbformat_minor": 2
}
